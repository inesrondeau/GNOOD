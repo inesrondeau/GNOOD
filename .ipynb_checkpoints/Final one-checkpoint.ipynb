{
 "cells": [
  {
   "cell_type": "code",
   "execution_count": 15,
   "id": "56759b82",
   "metadata": {},
   "outputs": [],
   "source": [
    "import pandas as pd\n",
    "import requests\n",
    "from bs4 import BeautifulSoup\n",
    "from time import sleep\n",
    "import random"
   ]
  },
  {
   "cell_type": "code",
   "execution_count": 25,
   "id": "c7d7513d",
   "metadata": {},
   "outputs": [],
   "source": [
    "import numpy as np\n",
    "from sklearn import cluster\n",
    "from sklearn.cluster import KMeans\n",
    "from sklearn.preprocessing import StandardScaler"
   ]
  },
  {
   "cell_type": "code",
   "execution_count": 17,
   "id": "51214b28",
   "metadata": {},
   "outputs": [],
   "source": [
    "CLIENT_ID = '112611cf1e204dfd93ac56899676e4ac'\n",
    "CLIENT_SECRET = 'a2929c0b24f6469085d8f234e90a8515'"
   ]
  },
  {
   "cell_type": "code",
   "execution_count": 18,
   "id": "ff7435db",
   "metadata": {},
   "outputs": [],
   "source": [
    "import spotipy\n",
    "from spotipy.oauth2 import SpotifyClientCredentials\n",
    "\n",
    "#Initialize SpotiPy with user credentials\n",
    "sp = spotipy.Spotify(auth_manager=SpotifyClientCredentials(client_id=CLIENT_ID,\n",
    "                                                           client_secret=CLIENT_SECRET))"
   ]
  },
  {
   "cell_type": "code",
   "execution_count": 19,
   "id": "a5b9467c",
   "metadata": {},
   "outputs": [],
   "source": [
    "spoty_df=pd.read_csv('spoty.csv')\n",
    "spoty_scaled_df=pd.read_csv('spoty_scaled.csv')\n",
    "songs_df=pd.read_csv('trending.csv')"
   ]
  },
  {
   "cell_type": "code",
   "execution_count": 20,
   "id": "f97eb21d",
   "metadata": {},
   "outputs": [],
   "source": [
    "X_id=spoty_scaled_df[['title','artist','type','id','uri','track_href','analysis_url']]\n",
    "X_feat=spoty_scaled_df.drop(['title','artist','type','id','uri','track_href','analysis_url','Unnamed: 0','cluster'],axis=1)"
   ]
  },
  {
   "cell_type": "code",
   "execution_count": 21,
   "id": "413769aa",
   "metadata": {},
   "outputs": [],
   "source": [
    "spoty_df0=spoty_df[spoty_df['cluster']==0]\n",
    "spoty_df1=spoty_df[spoty_df['cluster']==1]\n",
    "spoty_df2=spoty_df[spoty_df['cluster']==2]\n",
    "spoty_df3=spoty_df[spoty_df['cluster']==3]\n",
    "spoty_df4=spoty_df[spoty_df['cluster']==4]\n",
    "spoty_df5=spoty_df[spoty_df['cluster']==5]\n",
    "spoty_df6=spoty_df[spoty_df['cluster']==6]\n",
    "spoty_df7=spoty_df[spoty_df['cluster']==7]\n",
    "spoty_df8=spoty_df[spoty_df['cluster']==8]"
   ]
  },
  {
   "cell_type": "code",
   "execution_count": 22,
   "id": "d7f32b96",
   "metadata": {},
   "outputs": [],
   "source": [
    "titles= list(songs_df['title'].values)"
   ]
  },
  {
   "cell_type": "code",
   "execution_count": 23,
   "id": "b2fcda16",
   "metadata": {},
   "outputs": [],
   "source": [
    "def track(song):\n",
    "    if len(sp.search(q=song, type=\"track\", limit=1)['tracks']['items'])>0 :\n",
    "                         features=sp.audio_features(sp.search(q=song, type=\"track\", limit=1)['tracks']['items'][0]['uri'])\n",
    "                         song_features_values=[list(features[0].values())]\n",
    "                         song_features_name=features[0].keys()\n",
    "                         \n",
    "                         song= pd.DataFrame(song_features_values,columns=song_features_name)\n",
    "                         \n",
    "                         X_idsong=song[['type','id','uri','track_href','analysis_url']]\n",
    "                         X_featsong=song.drop(['type','id','uri','track_href','analysis_url'],axis=1)\n",
    "                        \n",
    "                         X_featsong_scaled = StandardScaler().fit_transform(X_feat)\n",
    "                         \n",
    "                         kmeans = KMeans(n_clusters=4,\n",
    "                                n_init=4, \n",
    "                                random_state=42)\n",
    "                          \n",
    "                         kmeans.fit(X_feat)\n",
    "                         \n",
    "                         pred=kmeans.predict(X_featsong_scaled)\n",
    "                         \n",
    "                         return list(pred)[0]   \n",
    "    else:\n",
    "                         return 9\n",
    "    "
   ]
  },
  {
   "cell_type": "code",
   "execution_count": 26,
   "id": "5291ac48",
   "metadata": {},
   "outputs": [
    {
     "name": "stdout",
     "output_type": "stream",
     "text": [
      "Song i like: Baby\n",
      "I Need You More 3111    Bethel Music\n",
      "Name: artist, dtype: object\n"
     ]
    }
   ],
   "source": [
    "while True:\n",
    "    song=input('Song i like: ')\n",
    "    if song in titles:\n",
    "        titles.remove(song)\n",
    "        selected=random.choice(titles)\n",
    "        art=songs_df[songs_df['title']==selected]['artist']\n",
    "        print(selected,art)\n",
    "    else:\n",
    "        if track(song)==0:\n",
    "            selected0= random.choice(list(spoty_df0['title']))\n",
    "            art0=spoty_df0[spoty_df0['title']==selected0]['artist']\n",
    "            print(selected0,art0)\n",
    "            break\n",
    "        elif track(song)==1:\n",
    "            selected1= random.choice(list(spoty_df1['title']))\n",
    "            art1=spoty_df1[spoty_df1['title']==selected1]['artist']\n",
    "            print(selected1,art1)\n",
    "            break\n",
    "        elif track(song)==2:\n",
    "            selected2= random.choice(list(spoty_df2['title']))\n",
    "            art2=spoty_df2[spoty_df2['title']==selected2]['artist']\n",
    "            print(selected2,art2)\n",
    "            break\n",
    "        elif track(song)==3:\n",
    "            selected3= random.choice(list(spoty_df3['title']))\n",
    "            art3=spoty_df3[spoty_df3['title']==selected3]['artist']\n",
    "            print(selected3,art3)\n",
    "            break\n",
    "        elif track(song)==4:\n",
    "            selected4= random.choice(list(spoty_df4['title']))\n",
    "            art4=spoty_df4[spoty_df4['title']==selected4]['artist']\n",
    "            print(selected4,art4)\n",
    "            break\n",
    "        elif track(song)==5:\n",
    "            selected5= random.choice(list(spoty_df5['title']))\n",
    "            art5=spoty_df5[spoty_df5['title']==selected5]['artist']\n",
    "            print(selected5,art5)\n",
    "            break\n",
    "        elif track(song)==6:\n",
    "            selected6= random.choice(list(spoty_df6['title']))\n",
    "            art6=spoty_df6[spoty_df6['title']==selected6]['artist']\n",
    "            print(selected6,art6)\n",
    "            break\n",
    "        elif track(song)==7:\n",
    "            selected7= random.choice(list(spoty_df7['title']))\n",
    "            art7=spoty_df6[spoty_df7['title']==selected7]['artist']\n",
    "            print(selected7,art7)\n",
    "            break\n",
    "        elif track(song)==8:\n",
    "            selected8= random.choice(list(spoty_df8['title']))\n",
    "            art8=spoty_df8[spoty_df8['title']==selected8]['artist']\n",
    "            print(selected8,art8)\n",
    "            break\n",
    "        elif track(song)==9:\n",
    "            print('try another one')\n"
   ]
  },
  {
   "cell_type": "code",
   "execution_count": null,
   "id": "a9091595",
   "metadata": {},
   "outputs": [],
   "source": []
  }
 ],
 "metadata": {
  "kernelspec": {
   "display_name": "Python 3",
   "language": "python",
   "name": "python3"
  },
  "language_info": {
   "codemirror_mode": {
    "name": "ipython",
    "version": 3
   },
   "file_extension": ".py",
   "mimetype": "text/x-python",
   "name": "python",
   "nbconvert_exporter": "python",
   "pygments_lexer": "ipython3",
   "version": "3.8.8"
  }
 },
 "nbformat": 4,
 "nbformat_minor": 5
}
